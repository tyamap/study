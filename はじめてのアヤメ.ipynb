{
  "nbformat": 4,
  "nbformat_minor": 0,
  "metadata": {
    "colab": {
      "name": "はじめてのアヤメ.ipynb",
      "provenance": [],
      "collapsed_sections": [],
      "authorship_tag": "ABX9TyPxJyKfw2PLXc/bzaSbBmDO"
    },
    "kernelspec": {
      "name": "python3",
      "display_name": "Python 3"
    }
  },
  "cells": [
    {
      "cell_type": "code",
      "metadata": {
        "id": "oKlaBMWARHcb",
        "colab_type": "code",
        "colab": {}
      },
      "source": [
        "import numpy as np  # 計算するやつ\n",
        "import pandas as pd # 表を扱うやつ\n",
        "import matplotlib   # グラフにするやつ\n",
        "import matplotlib.pyplot as plt\n",
        "%matplotlib inline\n",
        "import warnings     # 警告を消すやつ\n",
        "warnings.filterwarnings('ignore')"
      ],
      "execution_count": 0,
      "outputs": []
    },
    {
      "cell_type": "code",
      "metadata": {
        "id": "k9nX2GPyR-51",
        "colab_type": "code",
        "colab": {}
      },
      "source": [
        "# 機械学習ライブラリのScikit-learnからデータセットを入手\n",
        "from sklearn.datasets import load_iris                # アヤメのデータセット\n",
        "from sklearn.model_selection import train_test_split  # 学習用データとテスト用データを分ける\n",
        "from sklearn.svm import LinearSVC                     # 分類を行う線形SVMアルゴリズム"
      ],
      "execution_count": 0,
      "outputs": []
    },
    {
      "cell_type": "markdown",
      "metadata": {
        "id": "QSrYpjzhTHux",
        "colab_type": "text"
      },
      "source": [
        "# アヤメの分類ってどうやるの\n",
        "__アヤメの萼片や花びら幅や長さの数値__ を用いて __アヤメの種類を分類する__。\n",
        "さっきインポートしたデータに、誰かが集めたアヤメのデータがあるから、それをもとに機械学習によって分類をしていく。"
      ]
    },
    {
      "cell_type": "markdown",
      "metadata": {
        "id": "NmMzRJKEUurq",
        "colab_type": "text"
      },
      "source": [
        "\n",
        "## インスタンスを生成\n",
        "アヤメのインスタンスを生成する。"
      ]
    },
    {
      "cell_type": "code",
      "metadata": {
        "id": "zT1hP1OPTB-D",
        "colab_type": "code",
        "colab": {}
      },
      "source": [
        "ayame = load_iris()"
      ],
      "execution_count": 0,
      "outputs": []
    },
    {
      "cell_type": "markdown",
      "metadata": {
        "id": "6ImmVaQVUe_W",
        "colab_type": "text"
      },
      "source": [
        "## データの中身を見てみる"
      ]
    },
    {
      "cell_type": "code",
      "metadata": {
        "id": "knUREuJdUpvu",
        "colab_type": "code",
        "colab": {
          "base_uri": "https://localhost:8080/",
          "height": 1000
        },
        "outputId": "01aefa4a-12e6-47a1-a7a5-98b083d3c43f"
      },
      "source": [
        "print(\"与えられたデータ\")\n",
        "print(ayame.data)\n",
        "print(ayame.data.shape)\n",
        "print(\"-----------------\")\n",
        "print(\"予測するデータ\")\n",
        "print(ayame.target)\n",
        "print(ayame.target.shape)\n",
        "print(ayame.target_names)"
      ],
      "execution_count": 5,
      "outputs": [
        {
          "output_type": "stream",
          "text": [
            "与えられたデータ\n",
            "[[5.1 3.5 1.4 0.2]\n",
            " [4.9 3.  1.4 0.2]\n",
            " [4.7 3.2 1.3 0.2]\n",
            " [4.6 3.1 1.5 0.2]\n",
            " [5.  3.6 1.4 0.2]\n",
            " [5.4 3.9 1.7 0.4]\n",
            " [4.6 3.4 1.4 0.3]\n",
            " [5.  3.4 1.5 0.2]\n",
            " [4.4 2.9 1.4 0.2]\n",
            " [4.9 3.1 1.5 0.1]\n",
            " [5.4 3.7 1.5 0.2]\n",
            " [4.8 3.4 1.6 0.2]\n",
            " [4.8 3.  1.4 0.1]\n",
            " [4.3 3.  1.1 0.1]\n",
            " [5.8 4.  1.2 0.2]\n",
            " [5.7 4.4 1.5 0.4]\n",
            " [5.4 3.9 1.3 0.4]\n",
            " [5.1 3.5 1.4 0.3]\n",
            " [5.7 3.8 1.7 0.3]\n",
            " [5.1 3.8 1.5 0.3]\n",
            " [5.4 3.4 1.7 0.2]\n",
            " [5.1 3.7 1.5 0.4]\n",
            " [4.6 3.6 1.  0.2]\n",
            " [5.1 3.3 1.7 0.5]\n",
            " [4.8 3.4 1.9 0.2]\n",
            " [5.  3.  1.6 0.2]\n",
            " [5.  3.4 1.6 0.4]\n",
            " [5.2 3.5 1.5 0.2]\n",
            " [5.2 3.4 1.4 0.2]\n",
            " [4.7 3.2 1.6 0.2]\n",
            " [4.8 3.1 1.6 0.2]\n",
            " [5.4 3.4 1.5 0.4]\n",
            " [5.2 4.1 1.5 0.1]\n",
            " [5.5 4.2 1.4 0.2]\n",
            " [4.9 3.1 1.5 0.2]\n",
            " [5.  3.2 1.2 0.2]\n",
            " [5.5 3.5 1.3 0.2]\n",
            " [4.9 3.6 1.4 0.1]\n",
            " [4.4 3.  1.3 0.2]\n",
            " [5.1 3.4 1.5 0.2]\n",
            " [5.  3.5 1.3 0.3]\n",
            " [4.5 2.3 1.3 0.3]\n",
            " [4.4 3.2 1.3 0.2]\n",
            " [5.  3.5 1.6 0.6]\n",
            " [5.1 3.8 1.9 0.4]\n",
            " [4.8 3.  1.4 0.3]\n",
            " [5.1 3.8 1.6 0.2]\n",
            " [4.6 3.2 1.4 0.2]\n",
            " [5.3 3.7 1.5 0.2]\n",
            " [5.  3.3 1.4 0.2]\n",
            " [7.  3.2 4.7 1.4]\n",
            " [6.4 3.2 4.5 1.5]\n",
            " [6.9 3.1 4.9 1.5]\n",
            " [5.5 2.3 4.  1.3]\n",
            " [6.5 2.8 4.6 1.5]\n",
            " [5.7 2.8 4.5 1.3]\n",
            " [6.3 3.3 4.7 1.6]\n",
            " [4.9 2.4 3.3 1. ]\n",
            " [6.6 2.9 4.6 1.3]\n",
            " [5.2 2.7 3.9 1.4]\n",
            " [5.  2.  3.5 1. ]\n",
            " [5.9 3.  4.2 1.5]\n",
            " [6.  2.2 4.  1. ]\n",
            " [6.1 2.9 4.7 1.4]\n",
            " [5.6 2.9 3.6 1.3]\n",
            " [6.7 3.1 4.4 1.4]\n",
            " [5.6 3.  4.5 1.5]\n",
            " [5.8 2.7 4.1 1. ]\n",
            " [6.2 2.2 4.5 1.5]\n",
            " [5.6 2.5 3.9 1.1]\n",
            " [5.9 3.2 4.8 1.8]\n",
            " [6.1 2.8 4.  1.3]\n",
            " [6.3 2.5 4.9 1.5]\n",
            " [6.1 2.8 4.7 1.2]\n",
            " [6.4 2.9 4.3 1.3]\n",
            " [6.6 3.  4.4 1.4]\n",
            " [6.8 2.8 4.8 1.4]\n",
            " [6.7 3.  5.  1.7]\n",
            " [6.  2.9 4.5 1.5]\n",
            " [5.7 2.6 3.5 1. ]\n",
            " [5.5 2.4 3.8 1.1]\n",
            " [5.5 2.4 3.7 1. ]\n",
            " [5.8 2.7 3.9 1.2]\n",
            " [6.  2.7 5.1 1.6]\n",
            " [5.4 3.  4.5 1.5]\n",
            " [6.  3.4 4.5 1.6]\n",
            " [6.7 3.1 4.7 1.5]\n",
            " [6.3 2.3 4.4 1.3]\n",
            " [5.6 3.  4.1 1.3]\n",
            " [5.5 2.5 4.  1.3]\n",
            " [5.5 2.6 4.4 1.2]\n",
            " [6.1 3.  4.6 1.4]\n",
            " [5.8 2.6 4.  1.2]\n",
            " [5.  2.3 3.3 1. ]\n",
            " [5.6 2.7 4.2 1.3]\n",
            " [5.7 3.  4.2 1.2]\n",
            " [5.7 2.9 4.2 1.3]\n",
            " [6.2 2.9 4.3 1.3]\n",
            " [5.1 2.5 3.  1.1]\n",
            " [5.7 2.8 4.1 1.3]\n",
            " [6.3 3.3 6.  2.5]\n",
            " [5.8 2.7 5.1 1.9]\n",
            " [7.1 3.  5.9 2.1]\n",
            " [6.3 2.9 5.6 1.8]\n",
            " [6.5 3.  5.8 2.2]\n",
            " [7.6 3.  6.6 2.1]\n",
            " [4.9 2.5 4.5 1.7]\n",
            " [7.3 2.9 6.3 1.8]\n",
            " [6.7 2.5 5.8 1.8]\n",
            " [7.2 3.6 6.1 2.5]\n",
            " [6.5 3.2 5.1 2. ]\n",
            " [6.4 2.7 5.3 1.9]\n",
            " [6.8 3.  5.5 2.1]\n",
            " [5.7 2.5 5.  2. ]\n",
            " [5.8 2.8 5.1 2.4]\n",
            " [6.4 3.2 5.3 2.3]\n",
            " [6.5 3.  5.5 1.8]\n",
            " [7.7 3.8 6.7 2.2]\n",
            " [7.7 2.6 6.9 2.3]\n",
            " [6.  2.2 5.  1.5]\n",
            " [6.9 3.2 5.7 2.3]\n",
            " [5.6 2.8 4.9 2. ]\n",
            " [7.7 2.8 6.7 2. ]\n",
            " [6.3 2.7 4.9 1.8]\n",
            " [6.7 3.3 5.7 2.1]\n",
            " [7.2 3.2 6.  1.8]\n",
            " [6.2 2.8 4.8 1.8]\n",
            " [6.1 3.  4.9 1.8]\n",
            " [6.4 2.8 5.6 2.1]\n",
            " [7.2 3.  5.8 1.6]\n",
            " [7.4 2.8 6.1 1.9]\n",
            " [7.9 3.8 6.4 2. ]\n",
            " [6.4 2.8 5.6 2.2]\n",
            " [6.3 2.8 5.1 1.5]\n",
            " [6.1 2.6 5.6 1.4]\n",
            " [7.7 3.  6.1 2.3]\n",
            " [6.3 3.4 5.6 2.4]\n",
            " [6.4 3.1 5.5 1.8]\n",
            " [6.  3.  4.8 1.8]\n",
            " [6.9 3.1 5.4 2.1]\n",
            " [6.7 3.1 5.6 2.4]\n",
            " [6.9 3.1 5.1 2.3]\n",
            " [5.8 2.7 5.1 1.9]\n",
            " [6.8 3.2 5.9 2.3]\n",
            " [6.7 3.3 5.7 2.5]\n",
            " [6.7 3.  5.2 2.3]\n",
            " [6.3 2.5 5.  1.9]\n",
            " [6.5 3.  5.2 2. ]\n",
            " [6.2 3.4 5.4 2.3]\n",
            " [5.9 3.  5.1 1.8]]\n",
            "(150, 4)\n",
            "-----------------\n",
            "予測するデータ\n",
            "[0 0 0 0 0 0 0 0 0 0 0 0 0 0 0 0 0 0 0 0 0 0 0 0 0 0 0 0 0 0 0 0 0 0 0 0 0\n",
            " 0 0 0 0 0 0 0 0 0 0 0 0 0 1 1 1 1 1 1 1 1 1 1 1 1 1 1 1 1 1 1 1 1 1 1 1 1\n",
            " 1 1 1 1 1 1 1 1 1 1 1 1 1 1 1 1 1 1 1 1 1 1 1 1 1 1 2 2 2 2 2 2 2 2 2 2 2\n",
            " 2 2 2 2 2 2 2 2 2 2 2 2 2 2 2 2 2 2 2 2 2 2 2 2 2 2 2 2 2 2 2 2 2 2 2 2 2\n",
            " 2 2]\n",
            "(150,)\n",
            "['setosa' 'versicolor' 'virginica']\n"
          ],
          "name": "stdout"
        }
      ]
    },
    {
      "cell_type": "markdown",
      "metadata": {
        "id": "8uILqtSPVF8W",
        "colab_type": "text"
      },
      "source": [
        "## で、何するの\n",
        "与えられたデータは、__数値が書かれた150×4の二次元配列__。  \n",
        "予測するデータは__0,1,2と書かれた150×1の一次元配列__。  \n",
        "0: setosa  1: versicolor  2: virginica  \n",
        "に対応している。  \n",
        "    \n",
        "与えられた「数値が書かれた二次元配列」を「学習用と予想用に振り分けて」  \n",
        "「どれが0,1,2に対応するのか」を「機械学習アルゴリズム」に通すことで「予想していく」  \n",
        "OK?"
      ]
    },
    {
      "cell_type": "markdown",
      "metadata": {
        "id": "J4vN0wBsW6WC",
        "colab_type": "text"
      },
      "source": [
        "# Pandasでデータをわかりやすくする\n",
        "今の配列のままでは、なんのデータなのかよくわからない。  \n",
        "そんなときに、__表を列ごとに名前をつけて見やすく__できたり、__平均値や標準偏差などを自動で出してくれる__のがPandasさん。"
      ]
    },
    {
      "cell_type": "markdown",
      "metadata": {
        "id": "eIHqFhwjXzxF",
        "colab_type": "text"
      },
      "source": [
        "## 配列をDataFrameに変換\n",
        "1.DataFrameの第一引数にデータセット、第二引数にカラムの名前を与える。  \n",
        "2.DataFrameの第一引数に目的変数、第二引数にカラムの名前を与える。  \n",
        "3.1と2のDataFrameを横に結合したDataFrameを作る。"
      ]
    },
    {
      "cell_type": "code",
      "metadata": {
        "id": "FKFVVsbOU9WC",
        "colab_type": "code",
        "colab": {}
      },
      "source": [
        "ayame_data = pd.DataFrame(ayame.data, columns=[\"がく片の長さ\", \"がく片の幅\", \"花びらの長さ\", \"花びらの幅\"])\n",
        "ayame_target = pd.DataFrame(ayame.target, columns=[\"花の種類\"])\n",
        "ayame_all = pd.concat([ayame_data,ayame_target], axis=1) \n",
        "# axisは「軸」を指定する引数。axis=0は「行」、axis=1は「列」。今回は列を追加したかったので、axis=1"
      ],
      "execution_count": 0,
      "outputs": []
    },
    {
      "cell_type": "code",
      "metadata": {
        "id": "OvzFnEjRYgWR",
        "colab_type": "code",
        "colab": {
          "base_uri": "https://localhost:8080/",
          "height": 355
        },
        "outputId": "099d9ab0-b6ae-4787-c503-bfdd0fb27c8a"
      },
      "source": [
        "ayame_all.head(10)  # 最初の10行を表示"
      ],
      "execution_count": 11,
      "outputs": [
        {
          "output_type": "execute_result",
          "data": {
            "text/html": [
              "<div>\n",
              "<style scoped>\n",
              "    .dataframe tbody tr th:only-of-type {\n",
              "        vertical-align: middle;\n",
              "    }\n",
              "\n",
              "    .dataframe tbody tr th {\n",
              "        vertical-align: top;\n",
              "    }\n",
              "\n",
              "    .dataframe thead th {\n",
              "        text-align: right;\n",
              "    }\n",
              "</style>\n",
              "<table border=\"1\" class=\"dataframe\">\n",
              "  <thead>\n",
              "    <tr style=\"text-align: right;\">\n",
              "      <th></th>\n",
              "      <th>がく片の長さ</th>\n",
              "      <th>がく片の幅</th>\n",
              "      <th>花びらの長さ</th>\n",
              "      <th>花びらの幅</th>\n",
              "      <th>花の種類</th>\n",
              "    </tr>\n",
              "  </thead>\n",
              "  <tbody>\n",
              "    <tr>\n",
              "      <th>0</th>\n",
              "      <td>5.1</td>\n",
              "      <td>3.5</td>\n",
              "      <td>1.4</td>\n",
              "      <td>0.2</td>\n",
              "      <td>0</td>\n",
              "    </tr>\n",
              "    <tr>\n",
              "      <th>1</th>\n",
              "      <td>4.9</td>\n",
              "      <td>3.0</td>\n",
              "      <td>1.4</td>\n",
              "      <td>0.2</td>\n",
              "      <td>0</td>\n",
              "    </tr>\n",
              "    <tr>\n",
              "      <th>2</th>\n",
              "      <td>4.7</td>\n",
              "      <td>3.2</td>\n",
              "      <td>1.3</td>\n",
              "      <td>0.2</td>\n",
              "      <td>0</td>\n",
              "    </tr>\n",
              "    <tr>\n",
              "      <th>3</th>\n",
              "      <td>4.6</td>\n",
              "      <td>3.1</td>\n",
              "      <td>1.5</td>\n",
              "      <td>0.2</td>\n",
              "      <td>0</td>\n",
              "    </tr>\n",
              "    <tr>\n",
              "      <th>4</th>\n",
              "      <td>5.0</td>\n",
              "      <td>3.6</td>\n",
              "      <td>1.4</td>\n",
              "      <td>0.2</td>\n",
              "      <td>0</td>\n",
              "    </tr>\n",
              "    <tr>\n",
              "      <th>5</th>\n",
              "      <td>5.4</td>\n",
              "      <td>3.9</td>\n",
              "      <td>1.7</td>\n",
              "      <td>0.4</td>\n",
              "      <td>0</td>\n",
              "    </tr>\n",
              "    <tr>\n",
              "      <th>6</th>\n",
              "      <td>4.6</td>\n",
              "      <td>3.4</td>\n",
              "      <td>1.4</td>\n",
              "      <td>0.3</td>\n",
              "      <td>0</td>\n",
              "    </tr>\n",
              "    <tr>\n",
              "      <th>7</th>\n",
              "      <td>5.0</td>\n",
              "      <td>3.4</td>\n",
              "      <td>1.5</td>\n",
              "      <td>0.2</td>\n",
              "      <td>0</td>\n",
              "    </tr>\n",
              "    <tr>\n",
              "      <th>8</th>\n",
              "      <td>4.4</td>\n",
              "      <td>2.9</td>\n",
              "      <td>1.4</td>\n",
              "      <td>0.2</td>\n",
              "      <td>0</td>\n",
              "    </tr>\n",
              "    <tr>\n",
              "      <th>9</th>\n",
              "      <td>4.9</td>\n",
              "      <td>3.1</td>\n",
              "      <td>1.5</td>\n",
              "      <td>0.1</td>\n",
              "      <td>0</td>\n",
              "    </tr>\n",
              "  </tbody>\n",
              "</table>\n",
              "</div>"
            ],
            "text/plain": [
              "   がく片の長さ  がく片の幅  花びらの長さ  花びらの幅  花の種類\n",
              "0     5.1    3.5     1.4    0.2     0\n",
              "1     4.9    3.0     1.4    0.2     0\n",
              "2     4.7    3.2     1.3    0.2     0\n",
              "3     4.6    3.1     1.5    0.2     0\n",
              "4     5.0    3.6     1.4    0.2     0\n",
              "5     5.4    3.9     1.7    0.4     0\n",
              "6     4.6    3.4     1.4    0.3     0\n",
              "7     5.0    3.4     1.5    0.2     0\n",
              "8     4.4    2.9     1.4    0.2     0\n",
              "9     4.9    3.1     1.5    0.1     0"
            ]
          },
          "metadata": {
            "tags": []
          },
          "execution_count": 11
        }
      ]
    },
    {
      "cell_type": "code",
      "metadata": {
        "id": "4LJ84y1jaNuU",
        "colab_type": "code",
        "colab": {
          "base_uri": "https://localhost:8080/",
          "height": 294
        },
        "outputId": "990f0ef0-c01b-4556-dcb8-4e3bce33c8b6"
      },
      "source": [
        "ayame_all.describe()  # 平均値を出してくれる"
      ],
      "execution_count": 13,
      "outputs": [
        {
          "output_type": "execute_result",
          "data": {
            "text/html": [
              "<div>\n",
              "<style scoped>\n",
              "    .dataframe tbody tr th:only-of-type {\n",
              "        vertical-align: middle;\n",
              "    }\n",
              "\n",
              "    .dataframe tbody tr th {\n",
              "        vertical-align: top;\n",
              "    }\n",
              "\n",
              "    .dataframe thead th {\n",
              "        text-align: right;\n",
              "    }\n",
              "</style>\n",
              "<table border=\"1\" class=\"dataframe\">\n",
              "  <thead>\n",
              "    <tr style=\"text-align: right;\">\n",
              "      <th></th>\n",
              "      <th>がく片の長さ</th>\n",
              "      <th>がく片の幅</th>\n",
              "      <th>花びらの長さ</th>\n",
              "      <th>花びらの幅</th>\n",
              "      <th>花の種類</th>\n",
              "    </tr>\n",
              "  </thead>\n",
              "  <tbody>\n",
              "    <tr>\n",
              "      <th>count</th>\n",
              "      <td>150.000000</td>\n",
              "      <td>150.000000</td>\n",
              "      <td>150.000000</td>\n",
              "      <td>150.000000</td>\n",
              "      <td>150.000000</td>\n",
              "    </tr>\n",
              "    <tr>\n",
              "      <th>mean</th>\n",
              "      <td>5.843333</td>\n",
              "      <td>3.057333</td>\n",
              "      <td>3.758000</td>\n",
              "      <td>1.199333</td>\n",
              "      <td>1.000000</td>\n",
              "    </tr>\n",
              "    <tr>\n",
              "      <th>std</th>\n",
              "      <td>0.828066</td>\n",
              "      <td>0.435866</td>\n",
              "      <td>1.765298</td>\n",
              "      <td>0.762238</td>\n",
              "      <td>0.819232</td>\n",
              "    </tr>\n",
              "    <tr>\n",
              "      <th>min</th>\n",
              "      <td>4.300000</td>\n",
              "      <td>2.000000</td>\n",
              "      <td>1.000000</td>\n",
              "      <td>0.100000</td>\n",
              "      <td>0.000000</td>\n",
              "    </tr>\n",
              "    <tr>\n",
              "      <th>25%</th>\n",
              "      <td>5.100000</td>\n",
              "      <td>2.800000</td>\n",
              "      <td>1.600000</td>\n",
              "      <td>0.300000</td>\n",
              "      <td>0.000000</td>\n",
              "    </tr>\n",
              "    <tr>\n",
              "      <th>50%</th>\n",
              "      <td>5.800000</td>\n",
              "      <td>3.000000</td>\n",
              "      <td>4.350000</td>\n",
              "      <td>1.300000</td>\n",
              "      <td>1.000000</td>\n",
              "    </tr>\n",
              "    <tr>\n",
              "      <th>75%</th>\n",
              "      <td>6.400000</td>\n",
              "      <td>3.300000</td>\n",
              "      <td>5.100000</td>\n",
              "      <td>1.800000</td>\n",
              "      <td>2.000000</td>\n",
              "    </tr>\n",
              "    <tr>\n",
              "      <th>max</th>\n",
              "      <td>7.900000</td>\n",
              "      <td>4.400000</td>\n",
              "      <td>6.900000</td>\n",
              "      <td>2.500000</td>\n",
              "      <td>2.000000</td>\n",
              "    </tr>\n",
              "  </tbody>\n",
              "</table>\n",
              "</div>"
            ],
            "text/plain": [
              "           がく片の長さ       がく片の幅      花びらの長さ       花びらの幅        花の種類\n",
              "count  150.000000  150.000000  150.000000  150.000000  150.000000\n",
              "mean     5.843333    3.057333    3.758000    1.199333    1.000000\n",
              "std      0.828066    0.435866    1.765298    0.762238    0.819232\n",
              "min      4.300000    2.000000    1.000000    0.100000    0.000000\n",
              "25%      5.100000    2.800000    1.600000    0.300000    0.000000\n",
              "50%      5.800000    3.000000    4.350000    1.300000    1.000000\n",
              "75%      6.400000    3.300000    5.100000    1.800000    2.000000\n",
              "max      7.900000    4.400000    6.900000    2.500000    2.000000"
            ]
          },
          "metadata": {
            "tags": []
          },
          "execution_count": 13
        }
      ]
    },
    {
      "cell_type": "markdown",
      "metadata": {
        "id": "y3b2INnzapT7",
        "colab_type": "text"
      },
      "source": [
        "# データセットを分割する\n",
        "## __説明変数__と__目的変数__\n",
        "目的変数が、今回求めたい「花の種類」、説明変数は、目的変数を予測するための各要素。今回の場合がく片の長さなど。  \n",
        "## まずは学習用とテスト用にデータを分ける\n",
        "学習用データを使って学習させてモデルを作成して、  \n",
        "テスト用データを使ってモデルの正確さを確かめる。  \n",
        "というのが機械学習の流れ。  \n",
        "どうわけるかで学習に大きな影響が……\n",
        "## train_test_split関数を使う\n",
        "ttsさんがデータを適当にシャッフルしてくれる。  \n",
        "使う変数は4つ。\n",
        "- 学習用の説明変数\n",
        "- 学習用の目的変数\n",
        "- テスト用の説明変数\n",
        "- テスト用の目的変数"
      ]
    },
    {
      "cell_type": "code",
      "metadata": {
        "id": "UXgwBYKNc2Cq",
        "colab_type": "code",
        "colab": {}
      },
      "source": [
        "exp_train, exp_test, obj_train, obj_test = train_test_split(ayame_data, ayame_target, test_size=0.33)\n",
        "# 今回は全体の三分の一をテスト用に使うので、test_size=0.33"
      ],
      "execution_count": 0,
      "outputs": []
    },
    {
      "cell_type": "code",
      "metadata": {
        "id": "NtY53BiwdmzG",
        "colab_type": "code",
        "colab": {
          "base_uri": "https://localhost:8080/",
          "height": 355
        },
        "outputId": "a5685657-853d-4934-ecba-c9413983601b"
      },
      "source": [
        "exp_train.head(10)"
      ],
      "execution_count": 20,
      "outputs": [
        {
          "output_type": "execute_result",
          "data": {
            "text/html": [
              "<div>\n",
              "<style scoped>\n",
              "    .dataframe tbody tr th:only-of-type {\n",
              "        vertical-align: middle;\n",
              "    }\n",
              "\n",
              "    .dataframe tbody tr th {\n",
              "        vertical-align: top;\n",
              "    }\n",
              "\n",
              "    .dataframe thead th {\n",
              "        text-align: right;\n",
              "    }\n",
              "</style>\n",
              "<table border=\"1\" class=\"dataframe\">\n",
              "  <thead>\n",
              "    <tr style=\"text-align: right;\">\n",
              "      <th></th>\n",
              "      <th>がく片の長さ</th>\n",
              "      <th>がく片の幅</th>\n",
              "      <th>花びらの長さ</th>\n",
              "      <th>花びらの幅</th>\n",
              "    </tr>\n",
              "  </thead>\n",
              "  <tbody>\n",
              "    <tr>\n",
              "      <th>92</th>\n",
              "      <td>5.8</td>\n",
              "      <td>2.6</td>\n",
              "      <td>4.0</td>\n",
              "      <td>1.2</td>\n",
              "    </tr>\n",
              "    <tr>\n",
              "      <th>54</th>\n",
              "      <td>6.5</td>\n",
              "      <td>2.8</td>\n",
              "      <td>4.6</td>\n",
              "      <td>1.5</td>\n",
              "    </tr>\n",
              "    <tr>\n",
              "      <th>75</th>\n",
              "      <td>6.6</td>\n",
              "      <td>3.0</td>\n",
              "      <td>4.4</td>\n",
              "      <td>1.4</td>\n",
              "    </tr>\n",
              "    <tr>\n",
              "      <th>66</th>\n",
              "      <td>5.6</td>\n",
              "      <td>3.0</td>\n",
              "      <td>4.5</td>\n",
              "      <td>1.5</td>\n",
              "    </tr>\n",
              "    <tr>\n",
              "      <th>144</th>\n",
              "      <td>6.7</td>\n",
              "      <td>3.3</td>\n",
              "      <td>5.7</td>\n",
              "      <td>2.5</td>\n",
              "    </tr>\n",
              "    <tr>\n",
              "      <th>102</th>\n",
              "      <td>7.1</td>\n",
              "      <td>3.0</td>\n",
              "      <td>5.9</td>\n",
              "      <td>2.1</td>\n",
              "    </tr>\n",
              "    <tr>\n",
              "      <th>32</th>\n",
              "      <td>5.2</td>\n",
              "      <td>4.1</td>\n",
              "      <td>1.5</td>\n",
              "      <td>0.1</td>\n",
              "    </tr>\n",
              "    <tr>\n",
              "      <th>27</th>\n",
              "      <td>5.2</td>\n",
              "      <td>3.5</td>\n",
              "      <td>1.5</td>\n",
              "      <td>0.2</td>\n",
              "    </tr>\n",
              "    <tr>\n",
              "      <th>3</th>\n",
              "      <td>4.6</td>\n",
              "      <td>3.1</td>\n",
              "      <td>1.5</td>\n",
              "      <td>0.2</td>\n",
              "    </tr>\n",
              "    <tr>\n",
              "      <th>67</th>\n",
              "      <td>5.8</td>\n",
              "      <td>2.7</td>\n",
              "      <td>4.1</td>\n",
              "      <td>1.0</td>\n",
              "    </tr>\n",
              "  </tbody>\n",
              "</table>\n",
              "</div>"
            ],
            "text/plain": [
              "     がく片の長さ  がく片の幅  花びらの長さ  花びらの幅\n",
              "92      5.8    2.6     4.0    1.2\n",
              "54      6.5    2.8     4.6    1.5\n",
              "75      6.6    3.0     4.4    1.4\n",
              "66      5.6    3.0     4.5    1.5\n",
              "144     6.7    3.3     5.7    2.5\n",
              "102     7.1    3.0     5.9    2.1\n",
              "32      5.2    4.1     1.5    0.1\n",
              "27      5.2    3.5     1.5    0.2\n",
              "3       4.6    3.1     1.5    0.2\n",
              "67      5.8    2.7     4.1    1.0"
            ]
          },
          "metadata": {
            "tags": []
          },
          "execution_count": 20
        }
      ]
    },
    {
      "cell_type": "code",
      "metadata": {
        "id": "nrMYWgsRd52R",
        "colab_type": "code",
        "colab": {
          "base_uri": "https://localhost:8080/",
          "height": 355
        },
        "outputId": "eb2b3702-029f-44f5-b52c-6ba915342ff6"
      },
      "source": [
        "obj_train.head(10)"
      ],
      "execution_count": 18,
      "outputs": [
        {
          "output_type": "execute_result",
          "data": {
            "text/html": [
              "<div>\n",
              "<style scoped>\n",
              "    .dataframe tbody tr th:only-of-type {\n",
              "        vertical-align: middle;\n",
              "    }\n",
              "\n",
              "    .dataframe tbody tr th {\n",
              "        vertical-align: top;\n",
              "    }\n",
              "\n",
              "    .dataframe thead th {\n",
              "        text-align: right;\n",
              "    }\n",
              "</style>\n",
              "<table border=\"1\" class=\"dataframe\">\n",
              "  <thead>\n",
              "    <tr style=\"text-align: right;\">\n",
              "      <th></th>\n",
              "      <th>花の種類</th>\n",
              "    </tr>\n",
              "  </thead>\n",
              "  <tbody>\n",
              "    <tr>\n",
              "      <th>92</th>\n",
              "      <td>1</td>\n",
              "    </tr>\n",
              "    <tr>\n",
              "      <th>54</th>\n",
              "      <td>1</td>\n",
              "    </tr>\n",
              "    <tr>\n",
              "      <th>75</th>\n",
              "      <td>1</td>\n",
              "    </tr>\n",
              "    <tr>\n",
              "      <th>66</th>\n",
              "      <td>1</td>\n",
              "    </tr>\n",
              "    <tr>\n",
              "      <th>144</th>\n",
              "      <td>2</td>\n",
              "    </tr>\n",
              "    <tr>\n",
              "      <th>102</th>\n",
              "      <td>2</td>\n",
              "    </tr>\n",
              "    <tr>\n",
              "      <th>32</th>\n",
              "      <td>0</td>\n",
              "    </tr>\n",
              "    <tr>\n",
              "      <th>27</th>\n",
              "      <td>0</td>\n",
              "    </tr>\n",
              "    <tr>\n",
              "      <th>3</th>\n",
              "      <td>0</td>\n",
              "    </tr>\n",
              "    <tr>\n",
              "      <th>67</th>\n",
              "      <td>1</td>\n",
              "    </tr>\n",
              "  </tbody>\n",
              "</table>\n",
              "</div>"
            ],
            "text/plain": [
              "     花の種類\n",
              "92      1\n",
              "54      1\n",
              "75      1\n",
              "66      1\n",
              "144     2\n",
              "102     2\n",
              "32      0\n",
              "27      0\n",
              "3       0\n",
              "67      1"
            ]
          },
          "metadata": {
            "tags": []
          },
          "execution_count": 18
        }
      ]
    },
    {
      "cell_type": "code",
      "metadata": {
        "id": "zVo41Vqrd9LM",
        "colab_type": "code",
        "colab": {
          "base_uri": "https://localhost:8080/",
          "height": 294
        },
        "outputId": "0a4cd052-587f-41b2-86e5-e64b15cef7cf"
      },
      "source": [
        "exp_train.describe()"
      ],
      "execution_count": 21,
      "outputs": [
        {
          "output_type": "execute_result",
          "data": {
            "text/html": [
              "<div>\n",
              "<style scoped>\n",
              "    .dataframe tbody tr th:only-of-type {\n",
              "        vertical-align: middle;\n",
              "    }\n",
              "\n",
              "    .dataframe tbody tr th {\n",
              "        vertical-align: top;\n",
              "    }\n",
              "\n",
              "    .dataframe thead th {\n",
              "        text-align: right;\n",
              "    }\n",
              "</style>\n",
              "<table border=\"1\" class=\"dataframe\">\n",
              "  <thead>\n",
              "    <tr style=\"text-align: right;\">\n",
              "      <th></th>\n",
              "      <th>がく片の長さ</th>\n",
              "      <th>がく片の幅</th>\n",
              "      <th>花びらの長さ</th>\n",
              "      <th>花びらの幅</th>\n",
              "    </tr>\n",
              "  </thead>\n",
              "  <tbody>\n",
              "    <tr>\n",
              "      <th>count</th>\n",
              "      <td>100.00000</td>\n",
              "      <td>100.00000</td>\n",
              "      <td>100.000000</td>\n",
              "      <td>100.000000</td>\n",
              "    </tr>\n",
              "    <tr>\n",
              "      <th>mean</th>\n",
              "      <td>5.90600</td>\n",
              "      <td>3.06400</td>\n",
              "      <td>3.887000</td>\n",
              "      <td>1.252000</td>\n",
              "    </tr>\n",
              "    <tr>\n",
              "      <th>std</th>\n",
              "      <td>0.82729</td>\n",
              "      <td>0.41256</td>\n",
              "      <td>1.772783</td>\n",
              "      <td>0.776353</td>\n",
              "    </tr>\n",
              "    <tr>\n",
              "      <th>min</th>\n",
              "      <td>4.40000</td>\n",
              "      <td>2.20000</td>\n",
              "      <td>1.200000</td>\n",
              "      <td>0.100000</td>\n",
              "    </tr>\n",
              "    <tr>\n",
              "      <th>25%</th>\n",
              "      <td>5.20000</td>\n",
              "      <td>2.80000</td>\n",
              "      <td>1.600000</td>\n",
              "      <td>0.300000</td>\n",
              "    </tr>\n",
              "    <tr>\n",
              "      <th>50%</th>\n",
              "      <td>5.90000</td>\n",
              "      <td>3.00000</td>\n",
              "      <td>4.500000</td>\n",
              "      <td>1.400000</td>\n",
              "    </tr>\n",
              "    <tr>\n",
              "      <th>75%</th>\n",
              "      <td>6.40000</td>\n",
              "      <td>3.30000</td>\n",
              "      <td>5.300000</td>\n",
              "      <td>1.900000</td>\n",
              "    </tr>\n",
              "    <tr>\n",
              "      <th>max</th>\n",
              "      <td>7.90000</td>\n",
              "      <td>4.40000</td>\n",
              "      <td>6.700000</td>\n",
              "      <td>2.500000</td>\n",
              "    </tr>\n",
              "  </tbody>\n",
              "</table>\n",
              "</div>"
            ],
            "text/plain": [
              "          がく片の長さ      がく片の幅      花びらの長さ       花びらの幅\n",
              "count  100.00000  100.00000  100.000000  100.000000\n",
              "mean     5.90600    3.06400    3.887000    1.252000\n",
              "std      0.82729    0.41256    1.772783    0.776353\n",
              "min      4.40000    2.20000    1.200000    0.100000\n",
              "25%      5.20000    2.80000    1.600000    0.300000\n",
              "50%      5.90000    3.00000    4.500000    1.400000\n",
              "75%      6.40000    3.30000    5.300000    1.900000\n",
              "max      7.90000    4.40000    6.700000    2.500000"
            ]
          },
          "metadata": {
            "tags": []
          },
          "execution_count": 21
        }
      ]
    },
    {
      "cell_type": "markdown",
      "metadata": {
        "id": "n2HvJzSYeZqS",
        "colab_type": "text"
      },
      "source": [
        "# データをグラフで可視化する\n",
        "## 特徴量の選択\n",
        "__特徴量__とは、まあ今回の場合は説明変数のこと。  \n",
        "説明変数を組み合わせてグラフ上の分布を見ることで、適切な組み合わせがわかるかもしれない。"
      ]
    },
    {
      "cell_type": "markdown",
      "metadata": {
        "id": "S_2bHiiffRs9",
        "colab_type": "text"
      },
      "source": [
        "## 散布図を描く\n",
        "matplotlibのscatter関数を使う。引数は以下。\n",
        "1. 横軸にしたいデータ\n",
        "1. 縦軸にしたいデータ\n",
        "1. label = ラベル（凡例）\n",
        "1. cmap = カラーマップの種類\n",
        "\n",
        "今回は三種類の目的変数別に色を分けて描いていく。"
      ]
    },
    {
      "cell_type": "code",
      "metadata": {
        "id": "tqvhV2qyeYeV",
        "colab_type": "code",
        "colab": {
          "base_uri": "https://localhost:8080/",
          "height": 313
        },
        "outputId": "797ca0a4-2dae-4651-a6e4-ce0a11af393d"
      },
      "source": [
        "# がく片の長さと幅を用いたプロット\n",
        "plt.scatter(exp_train[obj_train[\"花の種類\"]==0][\"がく片の長さ\"], exp_train[(obj_train == 0).values][\"がく片の幅\"],label=\"setosa\",cmap=\"rgb\")\n",
        "plt.scatter(exp_train[obj_train[\"花の種類\"]==1][\"がく片の長さ\"], exp_train[(obj_train == 1).values][\"がく片の幅\"],label=\"versicolor\",cmap=\"rgb\")\n",
        "plt.scatter(exp_train[obj_train[\"花の種類\"]==2][\"がく片の長さ\"], exp_train[(obj_train == 2).values][\"がく片の幅\"],label=\"virginica\",cmap=\"rgb\")\n",
        "\n",
        "## X軸の範囲を指定\n",
        "plt.xlim(3,9)\n",
        "## Y軸の範囲を指定\n",
        "plt.ylim(1,5)\n",
        "\n",
        "## X軸の名前\n",
        "plt.xlabel(\"Length of sepal\")\n",
        "## Y軸の名前\n",
        "plt.ylabel(\"Width of sepal\")\n",
        "\n",
        "## グラフのタイトル\n",
        "plt.title(\"Relation between length and width of sepal\")\n",
        "## 凡例を出力\n",
        "plt.legend()"
      ],
      "execution_count": 23,
      "outputs": [
        {
          "output_type": "execute_result",
          "data": {
            "text/plain": [
              "<matplotlib.legend.Legend at 0x7f3653a74c50>"
            ]
          },
          "metadata": {
            "tags": []
          },
          "execution_count": 23
        },
        {
          "output_type": "display_data",
          "data": {
            "image/png": "[encoded data removed]",
            "text/plain": [
              "<Figure size 432x288 with 1 Axes>"
            ]
          },
          "metadata": {
            "tags": []
          }
        }
      ]
    },
    {
      "cell_type": "markdown",
      "metadata": {
        "id": "dYqJ01P5hxUH",
        "colab_type": "text"
      },
      "source": [
        "これだと分類しにくそう……境界線をどう引いたらいいか、わからない。"
      ]
    },
    {
      "cell_type": "code",
      "metadata": {
        "id": "_EA4afUDh1R9",
        "colab_type": "code",
        "colab": {
          "base_uri": "https://localhost:8080/",
          "height": 313
        },
        "outputId": "b419ba45-7b11-4d3a-deb4-00a9e8b4dd86"
      },
      "source": [
        "# 花弁の長さと幅でプロット\n",
        "plt.scatter(exp_train[obj_train[\"花の種類\"]==0][\"花びらの長さ\"], exp_train[(obj_train == 0).values][\"花びらの幅\"],label=\"setosa\",cmap=\"rgb\")\n",
        "plt.scatter(exp_train[obj_train[\"花の種類\"]==1][\"花びらの長さ\"], exp_train[(obj_train == 1).values][\"花びらの幅\"],label=\"versicolor\",cmap=\"rgb\")\n",
        "plt.scatter(exp_train[obj_train[\"花の種類\"]==2][\"花びらの長さ\"], exp_train[(obj_train == 2).values][\"花びらの幅\"],label=\"virginica\",cmap=\"rgb\")\n",
        "\n",
        "plt.xlim(0,8)\n",
        "plt.ylim(0,4)\n",
        "\n",
        "plt.xlabel(\"Length of petal\")\n",
        "plt.ylabel(\"Width of petal\")\n",
        "\n",
        "plt.title(\"Relation between length and width of petal\")\n",
        "plt.legend()"
      ],
      "execution_count": 25,
      "outputs": [
        {
          "output_type": "execute_result",
          "data": {
            "text/plain": [
              "<matplotlib.legend.Legend at 0x7f36511ddda0>"
            ]
          },
          "metadata": {
            "tags": []
          },
          "execution_count": 25
        },
        {
          "output_type": "display_data",
          "data": {
            "image/png": "[encoded data removed]",
            "text/plain": [
              "<Figure size 432x288 with 1 Axes>"
            ]
          },
          "metadata": {
            "tags": []
          }
        }
      ]
    },
    {
      "cell_type": "markdown",
      "metadata": {
        "id": "RhroTiH5h9aX",
        "colab_type": "text"
      },
      "source": [
        "これならわかりやすい！  \n",
        "とこのように、特徴量の選択によって、分類のしやすさが変わってくるわけ。"
      ]
    },
    {
      "cell_type": "markdown",
      "metadata": {
        "id": "VKUYIz9WjN9i",
        "colab_type": "text"
      },
      "source": [
        "# 機械学習アルゴリズムを使う\n",
        "今回はLinearSVCを使います。（断言）\n",
        "実際は、  \n",
        "どのようなアルゴリズムを用いるか？  \n",
        "「ハイパーパラメータ」はどうするか？  \n",
        "などの段階がある。\n",
        "## 特徴量の選択\n"
      ]
    },
    {
      "cell_type": "code",
      "metadata": {
        "id": "ej__bg7okMiY",
        "colab_type": "code",
        "colab": {}
      },
      "source": [
        "## がく片ペアのDataFrameを作成する。\n",
        "sepal_train = exp_train.loc[:,[\"がく片の長さ\",\"がく片の幅\"]]\n",
        "\n",
        "## 花びらペアのDataFrameを作成\n",
        "petal_train = exp_train.loc[:,[\"花びらの長さ\",\"花びらの幅\"]]"
      ],
      "execution_count": 0,
      "outputs": []
    },
    {
      "cell_type": "markdown",
      "metadata": {
        "id": "kl2DfzUKk7sO",
        "colab_type": "text"
      },
      "source": [
        "## モデルの構築→学習して予測する！\n",
        "（モデルってなんぞ？　というのは置いといて……）\n"
      ]
    },
    {
      "cell_type": "code",
      "metadata": {
        "id": "exziZmZ9lT43",
        "colab_type": "code",
        "colab": {}
      },
      "source": [
        "## それぞれモデルを構築\n",
        "sepal_model = LinearSVC()\n",
        "petal_model = LinearSVC()\n",
        "\n",
        "## それぞれのモデルに「学習」させる\n",
        "sepal_model.fit(sepal_train, obj_train)\n",
        "petal_model.fit(petal_train, obj_train)\n",
        "\n",
        "## それぞれのモデルで予測させて、予測値を代入させる\n",
        "### モデルが「がく片ペア」を使って学習しているので、予測するときもがく片ペアを渡す。\n",
        "sepal_predict = sepal_model.predict(exp_test.loc[:,[\"がく片の長さ\",\"がく片の幅\"]])\n",
        "### 同じく花びらペアを使って学習したモデルには花びらペアを渡す。\n",
        "petal_predict = petal_model.predict(exp_test.loc[:,[\"花びらの長さ\",\"花びらの幅\"]])"
      ],
      "execution_count": 0,
      "outputs": []
    },
    {
      "cell_type": "markdown",
      "metadata": {
        "id": "vH9Pnhi0m8K1",
        "colab_type": "text"
      },
      "source": [
        "# 答え合わせ\n",
        "がく片ペアで学習したモデルは正確に予測できなさそう。\n",
        "花びらペアで学習したモデルはきっと良い成果を上げてくれるはず！\n",
        "\n"
      ]
    },
    {
      "cell_type": "code",
      "metadata": {
        "id": "vwqIM-qqnRqK",
        "colab_type": "code",
        "colab": {
          "base_uri": "https://localhost:8080/",
          "height": 53
        },
        "outputId": "4848238a-0ff5-409a-a70b-4f98fe0be36f"
      },
      "source": [
        "## sklearnライブラリからscore算出の関数をimport\n",
        "from sklearn.metrics import accuracy_score\n",
        "\n",
        "## scoreに結果を代入\n",
        "sepal_score = accuracy_score(obj_test, sepal_predict)\n",
        "petal_score = accuracy_score(obj_test, petal_predict)\n",
        "\n",
        "print('がく片ペアモデルの正解率:{}'.format(sepal_score), '花びらペアモデルの正解率:{}'.format(petal_score), sep='\\n')"
      ],
      "execution_count": 28,
      "outputs": [
        {
          "output_type": "stream",
          "text": [
            "がく片ペアモデルの正解率:0.8\n",
            "花びらペアモデルの正解率:0.94\n"
          ],
          "name": "stdout"
        }
      ]
    },
    {
      "cell_type": "markdown",
      "metadata": {
        "id": "5wziqYb4oq2-",
        "colab_type": "text"
      },
      "source": [
        "# だいたい流れはわかった\n",
        "機械学習において事前の準備がとても大事ということですね。  \n",
        "以下考察"
      ]
    },
    {
      "cell_type": "code",
      "metadata": {
        "id": "XndcYMBioUeb",
        "colab_type": "code",
        "colab": {}
      },
      "source": [
        "# 分類の境界を可視化する関数\n",
        "def ayame_border_check(H, M, model, param1, param2, resolution=0.01):\n",
        "    H1_min, H1_max = H[param1].min()-0.5, H[param1].max()+0.5\n",
        "    H2_min, H2_max = H[param2].min()-0.5, H[param2].max()+0.5\n",
        "    H1, H2 = np.meshgrid(np.arange(H1_min, H1_max, resolution),\n",
        "                           np.arange(H2_min, H2_max, resolution))\n",
        "    n = np.array([H1.ravel(), H2.ravel()]).T\n",
        "    Z = model.predict(n)\n",
        "    Z = Z.reshape(H1.shape)\n",
        "    plt.contourf(H1, H2, Z, alpha=0.5, cmap=\"Set2\")\n",
        "    plt.xlim(H1_min, H1_max)\n",
        "    plt.ylim(H2_min, H2_max)\n",
        "    plt.xlabel(\"Length\")\n",
        "    plt.ylabel(\"Width\")\n",
        "    plt.scatter(H[param1],H[param2], c=M[\"花の種類\"], cmap=\"brg\")"
      ],
      "execution_count": 0,
      "outputs": []
    },
    {
      "cell_type": "code",
      "metadata": {
        "id": "BHxPVsPKpEqt",
        "colab_type": "code",
        "colab": {
          "base_uri": "https://localhost:8080/",
          "height": 279
        },
        "outputId": "d2c62b30-fa75-4ebb-fa8f-7a4d8b4f892a"
      },
      "source": [
        "## がく片ペアの境界分析\n",
        "ayame_border_check(exp_train, obj_train, sepal_model, \"がく片の長さ\", \"がく片の幅\")\n",
        "### 多くのデータが境界を超えて分布していることがわかる"
      ],
      "execution_count": 32,
      "outputs": [
        {
          "output_type": "display_data",
          "data": {
            "image/png": "[encoded data removed]",
            "text/plain": [
              "<Figure size 432x288 with 1 Axes>"
            ]
          },
          "metadata": {
            "tags": []
          }
        }
      ]
    },
    {
      "cell_type": "code",
      "metadata": {
        "id": "yp-ur2UEpViL",
        "colab_type": "code",
        "colab": {
          "base_uri": "https://localhost:8080/",
          "height": 283
        },
        "outputId": "929a592c-2069-4154-e152-4b8980c01da1"
      },
      "source": [
        "## 花びらペアの境界分析\n",
        "ayame_border_check(exp_train, obj_train, petal_model, \"花びらの長さ\", \"花びらの幅\")\n",
        "### 高い精度で分類できていることがわかる"
      ],
      "execution_count": 33,
      "outputs": [
        {
          "output_type": "display_data",
          "data": {
            "image/png": "[encoded data removed]",
            "text/plain": [
              "<Figure size 432x288 with 1 Axes>"
            ]
          },
          "metadata": {
            "tags": []
          }
        }
      ]
    },
    {
      "cell_type": "markdown",
      "metadata": {
        "id": "pJHnY1HxqH7-",
        "colab_type": "text"
      },
      "source": [
        "# 結論\n",
        "__データを可視化して特徴量を適切に選択することが大切！  \n",
        "ということが、アヤメの分類問題を通してわかった！__"
      ]
    }
  ]
}